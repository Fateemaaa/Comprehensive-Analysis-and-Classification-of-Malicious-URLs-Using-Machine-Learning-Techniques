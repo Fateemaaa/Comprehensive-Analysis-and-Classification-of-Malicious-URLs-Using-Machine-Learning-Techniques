{
 "cells": [
  {
   "cell_type": "code",
   "execution_count": 8,
   "id": "b2a351e6",
   "metadata": {},
   "outputs": [],
   "source": [
    "import pandas as pd "
   ]
  },
  {
   "cell_type": "code",
   "execution_count": 9,
   "id": "cd5bc0cc",
   "metadata": {},
   "outputs": [],
   "source": [
    "main_dataset = r\"C:\\Users\\fatii\\Desktop\\INFOSEC\\Assignment3+Project\\archive\\malicious_phish.csv\"\n",
    "main_dataset = pd.read_csv(main_dataset)"
   ]
  },
  {
   "cell_type": "code",
   "execution_count": 10,
   "id": "cef05825",
   "metadata": {},
   "outputs": [
    {
     "data": {
      "text/html": [
       "<div>\n",
       "<style scoped>\n",
       "    .dataframe tbody tr th:only-of-type {\n",
       "        vertical-align: middle;\n",
       "    }\n",
       "\n",
       "    .dataframe tbody tr th {\n",
       "        vertical-align: top;\n",
       "    }\n",
       "\n",
       "    .dataframe thead th {\n",
       "        text-align: right;\n",
       "    }\n",
       "</style>\n",
       "<table border=\"1\" class=\"dataframe\">\n",
       "  <thead>\n",
       "    <tr style=\"text-align: right;\">\n",
       "      <th></th>\n",
       "      <th>url</th>\n",
       "      <th>type</th>\n",
       "    </tr>\n",
       "  </thead>\n",
       "  <tbody>\n",
       "    <tr>\n",
       "      <th>0</th>\n",
       "      <td>br-icloud.com.br</td>\n",
       "      <td>phishing</td>\n",
       "    </tr>\n",
       "    <tr>\n",
       "      <th>1</th>\n",
       "      <td>mp3raid.com/music/krizz_kaliko.html</td>\n",
       "      <td>benign</td>\n",
       "    </tr>\n",
       "    <tr>\n",
       "      <th>2</th>\n",
       "      <td>bopsecrets.org/rexroth/cr/1.htm</td>\n",
       "      <td>benign</td>\n",
       "    </tr>\n",
       "    <tr>\n",
       "      <th>3</th>\n",
       "      <td>http://www.garage-pirenne.be/index.php?option=...</td>\n",
       "      <td>defacement</td>\n",
       "    </tr>\n",
       "    <tr>\n",
       "      <th>4</th>\n",
       "      <td>http://adventure-nicaragua.net/index.php?optio...</td>\n",
       "      <td>defacement</td>\n",
       "    </tr>\n",
       "    <tr>\n",
       "      <th>...</th>\n",
       "      <td>...</td>\n",
       "      <td>...</td>\n",
       "    </tr>\n",
       "    <tr>\n",
       "      <th>651186</th>\n",
       "      <td>xbox360.ign.com/objects/850/850402.html</td>\n",
       "      <td>phishing</td>\n",
       "    </tr>\n",
       "    <tr>\n",
       "      <th>651187</th>\n",
       "      <td>games.teamxbox.com/xbox-360/1860/Dead-Space/</td>\n",
       "      <td>phishing</td>\n",
       "    </tr>\n",
       "    <tr>\n",
       "      <th>651188</th>\n",
       "      <td>www.gamespot.com/xbox360/action/deadspace/</td>\n",
       "      <td>phishing</td>\n",
       "    </tr>\n",
       "    <tr>\n",
       "      <th>651189</th>\n",
       "      <td>en.wikipedia.org/wiki/Dead_Space_(video_game)</td>\n",
       "      <td>phishing</td>\n",
       "    </tr>\n",
       "    <tr>\n",
       "      <th>651190</th>\n",
       "      <td>www.angelfire.com/goth/devilmaycrytonite/</td>\n",
       "      <td>phishing</td>\n",
       "    </tr>\n",
       "  </tbody>\n",
       "</table>\n",
       "<p>651191 rows × 2 columns</p>\n",
       "</div>"
      ],
      "text/plain": [
       "                                                      url        type\n",
       "0                                        br-icloud.com.br    phishing\n",
       "1                     mp3raid.com/music/krizz_kaliko.html      benign\n",
       "2                         bopsecrets.org/rexroth/cr/1.htm      benign\n",
       "3       http://www.garage-pirenne.be/index.php?option=...  defacement\n",
       "4       http://adventure-nicaragua.net/index.php?optio...  defacement\n",
       "...                                                   ...         ...\n",
       "651186            xbox360.ign.com/objects/850/850402.html    phishing\n",
       "651187       games.teamxbox.com/xbox-360/1860/Dead-Space/    phishing\n",
       "651188         www.gamespot.com/xbox360/action/deadspace/    phishing\n",
       "651189      en.wikipedia.org/wiki/Dead_Space_(video_game)    phishing\n",
       "651190          www.angelfire.com/goth/devilmaycrytonite/    phishing\n",
       "\n",
       "[651191 rows x 2 columns]"
      ]
     },
     "execution_count": 10,
     "metadata": {},
     "output_type": "execute_result"
    }
   ],
   "source": [
    "main_dataset"
   ]
  },
  {
   "cell_type": "code",
   "execution_count": 11,
   "id": "d8380dc2",
   "metadata": {},
   "outputs": [],
   "source": [
    "\n",
    "benign_dataset = pd.read_csv(r\"C:\\Users\\fatii\\Desktop\\INFOSEC\\Assignment3+Project\\ISCXURL2016\\FinalDataset\\URL\\Benign_list_big_final.csv\")\n",
    "defacement_dataset = pd.read_csv(r\"C:\\Users\\fatii\\Desktop\\INFOSEC\\Assignment3+Project\\ISCXURL2016\\FinalDataset\\URL\\DefacementSitesURLFiltered.csv\")\n",
    "malware_dataset = pd.read_csv(r\"C:\\Users\\fatii\\Desktop\\INFOSEC\\Assignment3+Project\\ISCXURL2016\\FinalDataset\\URL\\Malware_dataset.csv\",delimiter='\\t', encoding='utf-8')\n",
    "phishing_dataset = pd.read_csv(r\"C:\\Users\\fatii\\Desktop\\INFOSEC\\Assignment3+Project\\ISCXURL2016\\FinalDataset\\URL\\phishing_dataset.csv\")\n",
    "spam_dataset = pd.read_csv(r\"C:\\Users\\fatii\\Desktop\\INFOSEC\\Assignment3+Project\\ISCXURL2016\\FinalDataset\\URL\\spam_dataset.csv\")\n"
   ]
  },
  {
   "cell_type": "code",
   "execution_count": 12,
   "id": "758e107f",
   "metadata": {},
   "outputs": [
    {
     "data": {
      "text/html": [
       "<div>\n",
       "<style scoped>\n",
       "    .dataframe tbody tr th:only-of-type {\n",
       "        vertical-align: middle;\n",
       "    }\n",
       "\n",
       "    .dataframe tbody tr th {\n",
       "        vertical-align: top;\n",
       "    }\n",
       "\n",
       "    .dataframe thead th {\n",
       "        text-align: right;\n",
       "    }\n",
       "</style>\n",
       "<table border=\"1\" class=\"dataframe\">\n",
       "  <thead>\n",
       "    <tr style=\"text-align: right;\">\n",
       "      <th></th>\n",
       "      <th>http://1337x.to/torrent/1048648/American-Sniper-2014-MD-iTALiAN-DVDSCR-X264-BST-MT/</th>\n",
       "    </tr>\n",
       "  </thead>\n",
       "  <tbody>\n",
       "    <tr>\n",
       "      <th>0</th>\n",
       "      <td>http://1337x.to/torrent/1110018/Blackhat-2015-...</td>\n",
       "    </tr>\n",
       "    <tr>\n",
       "      <th>1</th>\n",
       "      <td>http://1337x.to/torrent/1122940/Blackhat-2015-...</td>\n",
       "    </tr>\n",
       "    <tr>\n",
       "      <th>2</th>\n",
       "      <td>http://1337x.to/torrent/1124395/Fast-and-Furio...</td>\n",
       "    </tr>\n",
       "    <tr>\n",
       "      <th>3</th>\n",
       "      <td>http://1337x.to/torrent/1145504/Avengers-Age-o...</td>\n",
       "    </tr>\n",
       "    <tr>\n",
       "      <th>4</th>\n",
       "      <td>http://1337x.to/torrent/1160078/Avengers-age-o...</td>\n",
       "    </tr>\n",
       "    <tr>\n",
       "      <th>...</th>\n",
       "      <td>...</td>\n",
       "    </tr>\n",
       "    <tr>\n",
       "      <th>35372</th>\n",
       "      <td>https://lastpass.com/signup2.php?ac=1&amp;from_uri...</td>\n",
       "    </tr>\n",
       "    <tr>\n",
       "      <th>35373</th>\n",
       "      <td>https://lastpass.com/signup2.php?ac=1&amp;from_uri...</td>\n",
       "    </tr>\n",
       "    <tr>\n",
       "      <th>35374</th>\n",
       "      <td>https://lastpass.com/signup2.php?ac=1&amp;from_uri...</td>\n",
       "    </tr>\n",
       "    <tr>\n",
       "      <th>35375</th>\n",
       "      <td>https://lastpass.com/signup2.php?ac=1&amp;from_uri...</td>\n",
       "    </tr>\n",
       "    <tr>\n",
       "      <th>35376</th>\n",
       "      <td>https://asana.com/guide/videos/%22//fast.wisti...</td>\n",
       "    </tr>\n",
       "  </tbody>\n",
       "</table>\n",
       "<p>35377 rows × 1 columns</p>\n",
       "</div>"
      ],
      "text/plain": [
       "      http://1337x.to/torrent/1048648/American-Sniper-2014-MD-iTALiAN-DVDSCR-X264-BST-MT/\n",
       "0      http://1337x.to/torrent/1110018/Blackhat-2015-...                                 \n",
       "1      http://1337x.to/torrent/1122940/Blackhat-2015-...                                 \n",
       "2      http://1337x.to/torrent/1124395/Fast-and-Furio...                                 \n",
       "3      http://1337x.to/torrent/1145504/Avengers-Age-o...                                 \n",
       "4      http://1337x.to/torrent/1160078/Avengers-age-o...                                 \n",
       "...                                                  ...                                 \n",
       "35372  https://lastpass.com/signup2.php?ac=1&from_uri...                                 \n",
       "35373  https://lastpass.com/signup2.php?ac=1&from_uri...                                 \n",
       "35374  https://lastpass.com/signup2.php?ac=1&from_uri...                                 \n",
       "35375  https://lastpass.com/signup2.php?ac=1&from_uri...                                 \n",
       "35376  https://asana.com/guide/videos/%22//fast.wisti...                                 \n",
       "\n",
       "[35377 rows x 1 columns]"
      ]
     },
     "execution_count": 12,
     "metadata": {},
     "output_type": "execute_result"
    }
   ],
   "source": [
    "benign_dataset"
   ]
  },
  {
   "cell_type": "code",
   "execution_count": 13,
   "id": "83437b51",
   "metadata": {},
   "outputs": [
    {
     "data": {
      "text/html": [
       "<div>\n",
       "<style scoped>\n",
       "    .dataframe tbody tr th:only-of-type {\n",
       "        vertical-align: middle;\n",
       "    }\n",
       "\n",
       "    .dataframe tbody tr th {\n",
       "        vertical-align: top;\n",
       "    }\n",
       "\n",
       "    .dataframe thead th {\n",
       "        text-align: right;\n",
       "    }\n",
       "</style>\n",
       "<table border=\"1\" class=\"dataframe\">\n",
       "  <thead>\n",
       "    <tr style=\"text-align: right;\">\n",
       "      <th></th>\n",
       "      <th>http://www.sinduscongoias.com.br/index.html</th>\n",
       "    </tr>\n",
       "  </thead>\n",
       "  <tbody>\n",
       "    <tr>\n",
       "      <th>0</th>\n",
       "      <td>http://www.sinduscongoias.com.br/index.php/ins...</td>\n",
       "    </tr>\n",
       "    <tr>\n",
       "      <th>1</th>\n",
       "      <td>http://www.sinduscongoias.com.br/index.php/ins...</td>\n",
       "    </tr>\n",
       "    <tr>\n",
       "      <th>2</th>\n",
       "      <td>http://www.sinduscongoias.com.br/index.php/ins...</td>\n",
       "    </tr>\n",
       "    <tr>\n",
       "      <th>3</th>\n",
       "      <td>http://www.sinduscongoias.com.br/index.php/ins...</td>\n",
       "    </tr>\n",
       "    <tr>\n",
       "      <th>4</th>\n",
       "      <td>http://www.sinduscongoias.com.br/index.php/ins...</td>\n",
       "    </tr>\n",
       "    <tr>\n",
       "      <th>...</th>\n",
       "      <td>...</td>\n",
       "    </tr>\n",
       "    <tr>\n",
       "      <th>96451</th>\n",
       "      <td>http://www.laurenzano.com.ar/index.php?option=...</td>\n",
       "    </tr>\n",
       "    <tr>\n",
       "      <th>96452</th>\n",
       "      <td>http://www.laurenzano.com.ar/templates/laurenz...</td>\n",
       "    </tr>\n",
       "    <tr>\n",
       "      <th>96453</th>\n",
       "      <td>http://www.laurenzano.com.ar/templates/laurenz...</td>\n",
       "    </tr>\n",
       "    <tr>\n",
       "      <th>96454</th>\n",
       "      <td>http://www.laurenzano.com.ar/x.txt</td>\n",
       "    </tr>\n",
       "    <tr>\n",
       "      <th>96455</th>\n",
       "      <td>http://www.emotionalassets.com/sejeal.jpg</td>\n",
       "    </tr>\n",
       "  </tbody>\n",
       "</table>\n",
       "<p>96456 rows × 1 columns</p>\n",
       "</div>"
      ],
      "text/plain": [
       "             http://www.sinduscongoias.com.br/index.html\n",
       "0      http://www.sinduscongoias.com.br/index.php/ins...\n",
       "1      http://www.sinduscongoias.com.br/index.php/ins...\n",
       "2      http://www.sinduscongoias.com.br/index.php/ins...\n",
       "3      http://www.sinduscongoias.com.br/index.php/ins...\n",
       "4      http://www.sinduscongoias.com.br/index.php/ins...\n",
       "...                                                  ...\n",
       "96451  http://www.laurenzano.com.ar/index.php?option=...\n",
       "96452  http://www.laurenzano.com.ar/templates/laurenz...\n",
       "96453  http://www.laurenzano.com.ar/templates/laurenz...\n",
       "96454                 http://www.laurenzano.com.ar/x.txt\n",
       "96455          http://www.emotionalassets.com/sejeal.jpg\n",
       "\n",
       "[96456 rows x 1 columns]"
      ]
     },
     "execution_count": 13,
     "metadata": {},
     "output_type": "execute_result"
    }
   ],
   "source": [
    "defacement_dataset"
   ]
  },
  {
   "cell_type": "code",
   "execution_count": 14,
   "id": "776a1c3b",
   "metadata": {},
   "outputs": [
    {
     "data": {
      "text/html": [
       "<div>\n",
       "<style scoped>\n",
       "    .dataframe tbody tr th:only-of-type {\n",
       "        vertical-align: middle;\n",
       "    }\n",
       "\n",
       "    .dataframe tbody tr th {\n",
       "        vertical-align: top;\n",
       "    }\n",
       "\n",
       "    .dataframe thead th {\n",
       "        text-align: right;\n",
       "    }\n",
       "</style>\n",
       "<table border=\"1\" class=\"dataframe\">\n",
       "  <thead>\n",
       "    <tr style=\"text-align: right;\">\n",
       "      <th></th>\n",
       "      <th>http://gzzax.livechatvalue.com/chat/chatClient/chatbox.jsp?companyID=11806&amp;enterurl=file%3A%2F%2F%2FC%3A%2FUsers%2Famelia%2FDesktop%2F%25E7%25BD%2591%25E4%25B8%258A%25E8%25B5%258C%25E5%259C%25BA.html&amp;pagetitle=&amp;pagereferrer=&amp;firstEnterUrl=file%3A%2F%2F%2FC%3A%2FUsers%2Famelia%2FDesktop%2F%25E7%25BD%2591%25E4%25B8%258A%25E8%25B5%258C%25E5%259C%25BA.html&amp;lan=zh&amp;tm=1420533810210</th>\n",
       "    </tr>\n",
       "  </thead>\n",
       "  <tbody>\n",
       "    <tr>\n",
       "      <th>0</th>\n",
       "      <td>http://gzzax.livechatvalue.com/chat/chatClient...</td>\n",
       "    </tr>\n",
       "    <tr>\n",
       "      <th>1</th>\n",
       "      <td>http://gzzax.livechatvalue.com/chat/chatClient...</td>\n",
       "    </tr>\n",
       "    <tr>\n",
       "      <th>2</th>\n",
       "      <td>http://mtsx.com.cn/UploadFiles/2011-08/admin/%...</td>\n",
       "    </tr>\n",
       "    <tr>\n",
       "      <th>3</th>\n",
       "      <td>http://mtsx.com.cn/UploadFiles/2011-08/admin/%...</td>\n",
       "    </tr>\n",
       "    <tr>\n",
       "      <th>4</th>\n",
       "      <td>http://chinesevie.com/index.php?option=com_mai...</td>\n",
       "    </tr>\n",
       "    <tr>\n",
       "      <th>...</th>\n",
       "      <td>...</td>\n",
       "    </tr>\n",
       "    <tr>\n",
       "      <th>11559</th>\n",
       "      <td>http://www.plastischechirurgie.net/gesicht/fac...</td>\n",
       "    </tr>\n",
       "    <tr>\n",
       "      <th>11560</th>\n",
       "      <td>http://www.plastischechirurgie.net/haartranspl...</td>\n",
       "    </tr>\n",
       "    <tr>\n",
       "      <th>11561</th>\n",
       "      <td>http://www.plastischechirurgie.net/korper/gyna...</td>\n",
       "    </tr>\n",
       "    <tr>\n",
       "      <th>11562</th>\n",
       "      <td>http://dl.get1993desk.com/n/50517366/RealPlaye...</td>\n",
       "    </tr>\n",
       "    <tr>\n",
       "      <th>11563</th>\n",
       "      <td>http://fb.com.accounts.login.userid.492739.fbs...</td>\n",
       "    </tr>\n",
       "  </tbody>\n",
       "</table>\n",
       "<p>11564 rows × 1 columns</p>\n",
       "</div>"
      ],
      "text/plain": [
       "      http://gzzax.livechatvalue.com/chat/chatClient/chatbox.jsp?companyID=11806&enterurl=file%3A%2F%2F%2FC%3A%2FUsers%2Famelia%2FDesktop%2F%25E7%25BD%2591%25E4%25B8%258A%25E8%25B5%258C%25E5%259C%25BA.html&pagetitle=&pagereferrer=&firstEnterUrl=file%3A%2F%2F%2FC%3A%2FUsers%2Famelia%2FDesktop%2F%25E7%25BD%2591%25E4%25B8%258A%25E8%25B5%258C%25E5%259C%25BA.html&lan=zh&tm=1420533810210\n",
       "0      http://gzzax.livechatvalue.com/chat/chatClient...                                                                                                                                                                                                                                                                                                                                        \n",
       "1      http://gzzax.livechatvalue.com/chat/chatClient...                                                                                                                                                                                                                                                                                                                                        \n",
       "2      http://mtsx.com.cn/UploadFiles/2011-08/admin/%...                                                                                                                                                                                                                                                                                                                                        \n",
       "3      http://mtsx.com.cn/UploadFiles/2011-08/admin/%...                                                                                                                                                                                                                                                                                                                                        \n",
       "4      http://chinesevie.com/index.php?option=com_mai...                                                                                                                                                                                                                                                                                                                                        \n",
       "...                                                  ...                                                                                                                                                                                                                                                                                                                                        \n",
       "11559  http://www.plastischechirurgie.net/gesicht/fac...                                                                                                                                                                                                                                                                                                                                        \n",
       "11560  http://www.plastischechirurgie.net/haartranspl...                                                                                                                                                                                                                                                                                                                                        \n",
       "11561  http://www.plastischechirurgie.net/korper/gyna...                                                                                                                                                                                                                                                                                                                                        \n",
       "11562  http://dl.get1993desk.com/n/50517366/RealPlaye...                                                                                                                                                                                                                                                                                                                                        \n",
       "11563  http://fb.com.accounts.login.userid.492739.fbs...                                                                                                                                                                                                                                                                                                                                        \n",
       "\n",
       "[11564 rows x 1 columns]"
      ]
     },
     "execution_count": 14,
     "metadata": {},
     "output_type": "execute_result"
    }
   ],
   "source": [
    "\n",
    "malware_dataset = malware_dataset.iloc[1:]\n",
    "\n",
    "# Reset the index after dropping the first row\n",
    "malware_dataset.reset_index(drop=True, inplace=True)\n",
    "\n",
    "malware_dataset"
   ]
  },
  {
   "cell_type": "code",
   "execution_count": 15,
   "id": "c2d61cdc",
   "metadata": {},
   "outputs": [
    {
     "data": {
      "text/html": [
       "<div>\n",
       "<style scoped>\n",
       "    .dataframe tbody tr th:only-of-type {\n",
       "        vertical-align: middle;\n",
       "    }\n",
       "\n",
       "    .dataframe tbody tr th {\n",
       "        vertical-align: top;\n",
       "    }\n",
       "\n",
       "    .dataframe thead th {\n",
       "        text-align: right;\n",
       "    }\n",
       "</style>\n",
       "<table border=\"1\" class=\"dataframe\">\n",
       "  <thead>\n",
       "    <tr style=\"text-align: right;\">\n",
       "      <th></th>\n",
       "      <th>http://v2.email-marketing.adminsimple.com/track/link?s=a879370e133bf6f71b5cc7ce0c2043e1&amp;amp;AdministratorID=20238&amp;amp;MemberID=21410&amp;amp;CampaignID=1&amp;amp;CampaignStatisticsID=1&amp;amp;URL=http%3A%2F%2Fwww.cadivi.pro%2Faprobados%2Faprobados2012.php%3Futm_source%3Dv2.email-marketing.adminsimple.com</th>\n",
       "    </tr>\n",
       "  </thead>\n",
       "  <tbody>\n",
       "    <tr>\n",
       "      <th>0</th>\n",
       "      <td>http://bid.openx.net/json?amp;amp;amp;amp;cid;...</td>\n",
       "    </tr>\n",
       "    <tr>\n",
       "      <th>1</th>\n",
       "      <td>http://webmail2.centurytel.net/hwebmail/servic...</td>\n",
       "    </tr>\n",
       "    <tr>\n",
       "      <th>2</th>\n",
       "      <td>http://www.google.com.ng/imgres?imgurl=http://...</td>\n",
       "    </tr>\n",
       "    <tr>\n",
       "      <th>3</th>\n",
       "      <td>http://webmail2.centurytel.net/hwebmail/servic...</td>\n",
       "    </tr>\n",
       "    <tr>\n",
       "      <th>4</th>\n",
       "      <td>http://www.liceonuzzi.it/cmd=_Inf/connectionSt...</td>\n",
       "    </tr>\n",
       "    <tr>\n",
       "      <th>...</th>\n",
       "      <td>...</td>\n",
       "    </tr>\n",
       "    <tr>\n",
       "      <th>9959</th>\n",
       "      <td>http://highedgesolar.com/nw/includes/</td>\n",
       "    </tr>\n",
       "    <tr>\n",
       "      <th>9960</th>\n",
       "      <td>http://jimfangimporters.yolasite.com/</td>\n",
       "    </tr>\n",
       "    <tr>\n",
       "      <th>9961</th>\n",
       "      <td>http://liuheng.chengxuren.com/Images/</td>\n",
       "    </tr>\n",
       "    <tr>\n",
       "      <th>9962</th>\n",
       "      <td>http://mcnaotempreco.net/site/portal/</td>\n",
       "    </tr>\n",
       "    <tr>\n",
       "      <th>9963</th>\n",
       "      <td>http://missionaryfilms.org/index.html</td>\n",
       "    </tr>\n",
       "  </tbody>\n",
       "</table>\n",
       "<p>9964 rows × 1 columns</p>\n",
       "</div>"
      ],
      "text/plain": [
       "     http://v2.email-marketing.adminsimple.com/track/link?s=a879370e133bf6f71b5cc7ce0c2043e1&amp;AdministratorID=20238&amp;MemberID=21410&amp;CampaignID=1&amp;CampaignStatisticsID=1&amp;URL=http%3A%2F%2Fwww.cadivi.pro%2Faprobados%2Faprobados2012.php%3Futm_source%3Dv2.email-marketing.adminsimple.com\n",
       "0     http://bid.openx.net/json?amp;amp;amp;amp;cid;...                                                                                                                                                                                                                                                    \n",
       "1     http://webmail2.centurytel.net/hwebmail/servic...                                                                                                                                                                                                                                                    \n",
       "2     http://www.google.com.ng/imgres?imgurl=http://...                                                                                                                                                                                                                                                    \n",
       "3     http://webmail2.centurytel.net/hwebmail/servic...                                                                                                                                                                                                                                                    \n",
       "4     http://www.liceonuzzi.it/cmd=_Inf/connectionSt...                                                                                                                                                                                                                                                    \n",
       "...                                                 ...                                                                                                                                                                                                                                                    \n",
       "9959              http://highedgesolar.com/nw/includes/                                                                                                                                                                                                                                                    \n",
       "9960              http://jimfangimporters.yolasite.com/                                                                                                                                                                                                                                                    \n",
       "9961              http://liuheng.chengxuren.com/Images/                                                                                                                                                                                                                                                    \n",
       "9962              http://mcnaotempreco.net/site/portal/                                                                                                                                                                                                                                                    \n",
       "9963              http://missionaryfilms.org/index.html                                                                                                                                                                                                                                                    \n",
       "\n",
       "[9964 rows x 1 columns]"
      ]
     },
     "execution_count": 15,
     "metadata": {},
     "output_type": "execute_result"
    }
   ],
   "source": [
    "phishing_dataset"
   ]
  },
  {
   "cell_type": "code",
   "execution_count": 16,
   "id": "1f1e5bf1",
   "metadata": {},
   "outputs": [
    {
     "data": {
      "text/html": [
       "<div>\n",
       "<style scoped>\n",
       "    .dataframe tbody tr th:only-of-type {\n",
       "        vertical-align: middle;\n",
       "    }\n",
       "\n",
       "    .dataframe tbody tr th {\n",
       "        vertical-align: top;\n",
       "    }\n",
       "\n",
       "    .dataframe thead th {\n",
       "        text-align: right;\n",
       "    }\n",
       "</style>\n",
       "<table border=\"1\" class=\"dataframe\">\n",
       "  <thead>\n",
       "    <tr style=\"text-align: right;\">\n",
       "      <th></th>\n",
       "      <th>http://astore.amazon.co.uk/allezvinsfrenchr/detail/1904010202/026-8324244-9330038</th>\n",
       "    </tr>\n",
       "  </thead>\n",
       "  <tbody>\n",
       "    <tr>\n",
       "      <th>0</th>\n",
       "      <td>http://archive.salisburyjournal.co.uk/2007/3/6...</td>\n",
       "    </tr>\n",
       "    <tr>\n",
       "      <th>1</th>\n",
       "      <td>http://appbasic.jettons.co.uk/links/index.html</td>\n",
       "    </tr>\n",
       "    <tr>\n",
       "      <th>2</th>\n",
       "      <td>http://archive.yorkpress.co.uk/2003/11/6/25684...</td>\n",
       "    </tr>\n",
       "    <tr>\n",
       "      <th>3</th>\n",
       "      <td>http://acard4u.co.uk/product_reviews.php?cPath...</td>\n",
       "    </tr>\n",
       "    <tr>\n",
       "      <th>4</th>\n",
       "      <td>http://amazon.co.uk/s/ref=amb_link_22202665_32...</td>\n",
       "    </tr>\n",
       "    <tr>\n",
       "      <th>...</th>\n",
       "      <td>...</td>\n",
       "    </tr>\n",
       "    <tr>\n",
       "      <th>11994</th>\n",
       "      <td>http://archive.salisburyjournal.co.uk/2001/3/7/</td>\n",
       "    </tr>\n",
       "    <tr>\n",
       "      <th>11995</th>\n",
       "      <td>http://astore.amazon.co.uk/allezvinsfrenchr/de...</td>\n",
       "    </tr>\n",
       "    <tr>\n",
       "      <th>11996</th>\n",
       "      <td>http://archive.thisischeshire.co.uk/2000/1/14/...</td>\n",
       "    </tr>\n",
       "    <tr>\n",
       "      <th>11997</th>\n",
       "      <td>http://applerugs.co.uk/rugs/product_info.php?p...</td>\n",
       "    </tr>\n",
       "    <tr>\n",
       "      <th>11998</th>\n",
       "      <td>http://allgirltogaparty.co.uk/gallery2/main.ph...</td>\n",
       "    </tr>\n",
       "  </tbody>\n",
       "</table>\n",
       "<p>11999 rows × 1 columns</p>\n",
       "</div>"
      ],
      "text/plain": [
       "      http://astore.amazon.co.uk/allezvinsfrenchr/detail/1904010202/026-8324244-9330038\n",
       "0      http://archive.salisburyjournal.co.uk/2007/3/6...                               \n",
       "1         http://appbasic.jettons.co.uk/links/index.html                               \n",
       "2      http://archive.yorkpress.co.uk/2003/11/6/25684...                               \n",
       "3      http://acard4u.co.uk/product_reviews.php?cPath...                               \n",
       "4      http://amazon.co.uk/s/ref=amb_link_22202665_32...                               \n",
       "...                                                  ...                               \n",
       "11994    http://archive.salisburyjournal.co.uk/2001/3/7/                               \n",
       "11995  http://astore.amazon.co.uk/allezvinsfrenchr/de...                               \n",
       "11996  http://archive.thisischeshire.co.uk/2000/1/14/...                               \n",
       "11997  http://applerugs.co.uk/rugs/product_info.php?p...                               \n",
       "11998  http://allgirltogaparty.co.uk/gallery2/main.ph...                               \n",
       "\n",
       "[11999 rows x 1 columns]"
      ]
     },
     "execution_count": 16,
     "metadata": {},
     "output_type": "execute_result"
    }
   ],
   "source": [
    "spam_dataset"
   ]
  },
  {
   "cell_type": "code",
   "execution_count": 17,
   "id": "de6c67cd",
   "metadata": {},
   "outputs": [],
   "source": [
    "main_dataset['Benign'] = benign_dataset.iloc[:, 0]\n",
    "main_dataset['Defacement'] = defacement_dataset.iloc[:, 0]\n",
    "main_dataset['Malware'] = malware_dataset.iloc[:, 0]\n",
    "main_dataset['Phishing'] = phishing_dataset.iloc[:, 0]\n",
    "main_dataset['Spam'] = spam_dataset.iloc[:, 0]\n"
   ]
  },
  {
   "cell_type": "code",
   "execution_count": 18,
   "id": "38496d43",
   "metadata": {},
   "outputs": [],
   "source": [
    "main_dataset = main_dataset.fillna(0)  # Fill missing values with 0 or another suitable value\n"
   ]
  },
  {
   "cell_type": "code",
   "execution_count": 19,
   "id": "fa7af742",
   "metadata": {},
   "outputs": [],
   "source": [
    "main_dataset.to_csv(\"merged_dataset.csv\", index=False)\n"
   ]
  },
  {
   "cell_type": "code",
   "execution_count": 20,
   "id": "8554a2e5",
   "metadata": {},
   "outputs": [
    {
     "name": "stdout",
     "output_type": "stream",
     "text": [
      "                                                 url        type  \\\n",
      "0                                   br-icloud.com.br    phishing   \n",
      "1                mp3raid.com/music/krizz_kaliko.html      benign   \n",
      "2                    bopsecrets.org/rexroth/cr/1.htm      benign   \n",
      "3  http://www.garage-pirenne.be/index.php?option=...  defacement   \n",
      "4  http://adventure-nicaragua.net/index.php?optio...  defacement   \n",
      "\n",
      "                                              Benign  \\\n",
      "0  http://1337x.to/torrent/1110018/Blackhat-2015-...   \n",
      "1  http://1337x.to/torrent/1122940/Blackhat-2015-...   \n",
      "2  http://1337x.to/torrent/1124395/Fast-and-Furio...   \n",
      "3  http://1337x.to/torrent/1145504/Avengers-Age-o...   \n",
      "4  http://1337x.to/torrent/1160078/Avengers-age-o...   \n",
      "\n",
      "                                          Defacement  \\\n",
      "0  http://www.sinduscongoias.com.br/index.php/ins...   \n",
      "1  http://www.sinduscongoias.com.br/index.php/ins...   \n",
      "2  http://www.sinduscongoias.com.br/index.php/ins...   \n",
      "3  http://www.sinduscongoias.com.br/index.php/ins...   \n",
      "4  http://www.sinduscongoias.com.br/index.php/ins...   \n",
      "\n",
      "                                             Malware  \\\n",
      "0  http://gzzax.livechatvalue.com/chat/chatClient...   \n",
      "1  http://gzzax.livechatvalue.com/chat/chatClient...   \n",
      "2  http://mtsx.com.cn/UploadFiles/2011-08/admin/%...   \n",
      "3  http://mtsx.com.cn/UploadFiles/2011-08/admin/%...   \n",
      "4  http://chinesevie.com/index.php?option=com_mai...   \n",
      "\n",
      "                                            Phishing  \\\n",
      "0  http://bid.openx.net/json?amp;amp;amp;amp;cid;...   \n",
      "1  http://webmail2.centurytel.net/hwebmail/servic...   \n",
      "2  http://www.google.com.ng/imgres?imgurl=http://...   \n",
      "3  http://webmail2.centurytel.net/hwebmail/servic...   \n",
      "4  http://www.liceonuzzi.it/cmd=_Inf/connectionSt...   \n",
      "\n",
      "                                                Spam  \n",
      "0  http://archive.salisburyjournal.co.uk/2007/3/6...  \n",
      "1     http://appbasic.jettons.co.uk/links/index.html  \n",
      "2  http://archive.yorkpress.co.uk/2003/11/6/25684...  \n",
      "3  http://acard4u.co.uk/product_reviews.php?cPath...  \n",
      "4  http://amazon.co.uk/s/ref=amb_link_22202665_32...  \n"
     ]
    },
    {
     "name": "stderr",
     "output_type": "stream",
     "text": [
      "C:\\Users\\fatii\\AppData\\Local\\Temp\\ipykernel_24812\\2162453012.py:2: DtypeWarning: Columns (2,3,4,5,6) have mixed types. Specify dtype option on import or set low_memory=False.\n",
      "  merged_dataset = pd.read_csv(\"merged_dataset.csv\")\n"
     ]
    }
   ],
   "source": [
    "import pandas as pd\n",
    "merged_dataset = pd.read_csv(\"merged_dataset.csv\")\n",
    "\n",
    "# Display the first few rows of the merged dataset\n",
    "print(merged_dataset.head())"
   ]
  },
  {
   "cell_type": "code",
   "execution_count": 21,
   "id": "bf8213ba",
   "metadata": {},
   "outputs": [
    {
     "name": "stderr",
     "output_type": "stream",
     "text": [
      "C:\\Users\\fatii\\AppData\\Local\\Temp\\ipykernel_24812\\610745592.py:4: DtypeWarning: Columns (2,3,4,5,6) have mixed types. Specify dtype option on import or set low_memory=False.\n",
      "  merged_dataset = pd.read_csv(\"merged_dataset.csv\")\n"
     ]
    },
    {
     "name": "stdout",
     "output_type": "stream",
     "text": [
      "<class 'pandas.core.frame.DataFrame'>\n",
      "RangeIndex: 651191 entries, 0 to 651190\n",
      "Data columns (total 7 columns):\n",
      " #   Column      Non-Null Count   Dtype \n",
      "---  ------      --------------   ----- \n",
      " 0   url         651191 non-null  object\n",
      " 1   type        651191 non-null  object\n",
      " 2   Benign      651191 non-null  object\n",
      " 3   Defacement  651191 non-null  object\n",
      " 4   Malware     651191 non-null  object\n",
      " 5   Phishing    651191 non-null  object\n",
      " 6   Spam        651191 non-null  object\n",
      "dtypes: object(7)\n",
      "memory usage: 34.8+ MB\n",
      "None\n",
      "                                                 url        type  \\\n",
      "0                                   br-icloud.com.br    phishing   \n",
      "1                mp3raid.com/music/krizz_kaliko.html      benign   \n",
      "2                    bopsecrets.org/rexroth/cr/1.htm      benign   \n",
      "3  http://www.garage-pirenne.be/index.php?option=...  defacement   \n",
      "4  http://adventure-nicaragua.net/index.php?optio...  defacement   \n",
      "\n",
      "                                              Benign  \\\n",
      "0  http://1337x.to/torrent/1110018/Blackhat-2015-...   \n",
      "1  http://1337x.to/torrent/1122940/Blackhat-2015-...   \n",
      "2  http://1337x.to/torrent/1124395/Fast-and-Furio...   \n",
      "3  http://1337x.to/torrent/1145504/Avengers-Age-o...   \n",
      "4  http://1337x.to/torrent/1160078/Avengers-age-o...   \n",
      "\n",
      "                                          Defacement  \\\n",
      "0  http://www.sinduscongoias.com.br/index.php/ins...   \n",
      "1  http://www.sinduscongoias.com.br/index.php/ins...   \n",
      "2  http://www.sinduscongoias.com.br/index.php/ins...   \n",
      "3  http://www.sinduscongoias.com.br/index.php/ins...   \n",
      "4  http://www.sinduscongoias.com.br/index.php/ins...   \n",
      "\n",
      "                                             Malware  \\\n",
      "0  http://gzzax.livechatvalue.com/chat/chatClient...   \n",
      "1  http://gzzax.livechatvalue.com/chat/chatClient...   \n",
      "2  http://mtsx.com.cn/UploadFiles/2011-08/admin/%...   \n",
      "3  http://mtsx.com.cn/UploadFiles/2011-08/admin/%...   \n",
      "4  http://chinesevie.com/index.php?option=com_mai...   \n",
      "\n",
      "                                            Phishing  \\\n",
      "0  http://bid.openx.net/json?amp;amp;amp;amp;cid;...   \n",
      "1  http://webmail2.centurytel.net/hwebmail/servic...   \n",
      "2  http://www.google.com.ng/imgres?imgurl=http://...   \n",
      "3  http://webmail2.centurytel.net/hwebmail/servic...   \n",
      "4  http://www.liceonuzzi.it/cmd=_Inf/connectionSt...   \n",
      "\n",
      "                                                Spam  \n",
      "0  http://archive.salisburyjournal.co.uk/2007/3/6...  \n",
      "1     http://appbasic.jettons.co.uk/links/index.html  \n",
      "2  http://archive.yorkpress.co.uk/2003/11/6/25684...  \n",
      "3  http://acard4u.co.uk/product_reviews.php?cPath...  \n",
      "4  http://amazon.co.uk/s/ref=amb_link_22202665_32...  \n"
     ]
    }
   ],
   "source": [
    "import pandas as pd\n",
    "\n",
    "# Load the merged dataset\n",
    "merged_dataset = pd.read_csv(\"merged_dataset.csv\")\n",
    "\n",
    "print(merged_dataset.info())\n",
    "\n",
    "merged_dataset = merged_dataset.fillna(0)  # Replace missing values with 0 or use other imputation methods\n",
    "\n",
    "merged_dataset = merged_dataset.drop_duplicates()\n",
    "\n",
    "\n",
    "# Display the preprocessed dataset\n",
    "print(merged_dataset.head())\n"
   ]
  },
  {
   "cell_type": "code",
   "execution_count": 22,
   "id": "385028dd",
   "metadata": {},
   "outputs": [
    {
     "name": "stdout",
     "output_type": "stream",
     "text": [
      "                                                 url  \\\n",
      "0                                   br-icloud.com.br   \n",
      "1                mp3raid.com/music/krizz_kaliko.html   \n",
      "2                    bopsecrets.org/rexroth/cr/1.htm   \n",
      "3  http://www.garage-pirenne.be/index.php?option=...   \n",
      "4  http://adventure-nicaragua.net/index.php?optio...   \n",
      "\n",
      "                                              Benign  \\\n",
      "0  http://1337x.to/torrent/1110018/Blackhat-2015-...   \n",
      "1  http://1337x.to/torrent/1122940/Blackhat-2015-...   \n",
      "2  http://1337x.to/torrent/1124395/Fast-and-Furio...   \n",
      "3  http://1337x.to/torrent/1145504/Avengers-Age-o...   \n",
      "4  http://1337x.to/torrent/1160078/Avengers-age-o...   \n",
      "\n",
      "                                          Defacement  \\\n",
      "0  http://www.sinduscongoias.com.br/index.php/ins...   \n",
      "1  http://www.sinduscongoias.com.br/index.php/ins...   \n",
      "2  http://www.sinduscongoias.com.br/index.php/ins...   \n",
      "3  http://www.sinduscongoias.com.br/index.php/ins...   \n",
      "4  http://www.sinduscongoias.com.br/index.php/ins...   \n",
      "\n",
      "                                             Malware  \\\n",
      "0  http://gzzax.livechatvalue.com/chat/chatClient...   \n",
      "1  http://gzzax.livechatvalue.com/chat/chatClient...   \n",
      "2  http://mtsx.com.cn/UploadFiles/2011-08/admin/%...   \n",
      "3  http://mtsx.com.cn/UploadFiles/2011-08/admin/%...   \n",
      "4  http://chinesevie.com/index.php?option=com_mai...   \n",
      "\n",
      "                                            Phishing  \\\n",
      "0  http://bid.openx.net/json?amp;amp;amp;amp;cid;...   \n",
      "1  http://webmail2.centurytel.net/hwebmail/servic...   \n",
      "2  http://www.google.com.ng/imgres?imgurl=http://...   \n",
      "3  http://webmail2.centurytel.net/hwebmail/servic...   \n",
      "4  http://www.liceonuzzi.it/cmd=_Inf/connectionSt...   \n",
      "\n",
      "                                                Spam  type_benign  \\\n",
      "0  http://archive.salisburyjournal.co.uk/2007/3/6...            0   \n",
      "1     http://appbasic.jettons.co.uk/links/index.html            1   \n",
      "2  http://archive.yorkpress.co.uk/2003/11/6/25684...            1   \n",
      "3  http://acard4u.co.uk/product_reviews.php?cPath...            0   \n",
      "4  http://amazon.co.uk/s/ref=amb_link_22202665_32...            0   \n",
      "\n",
      "   type_defacement  type_malware  type_phishing  \n",
      "0                0             0              1  \n",
      "1                0             0              0  \n",
      "2                0             0              0  \n",
      "3                1             0              0  \n",
      "4                1             0              0  \n"
     ]
    }
   ],
   "source": [
    "import pandas as pd\n",
    "\n",
    "categorical_column = 'type'\n",
    "\n",
    "# Perform one-hot encoding\n",
    "merged_dataset_encoded = pd.get_dummies(merged_dataset, columns=[categorical_column], prefix=categorical_column)\n",
    "\n",
    "# Display the dataset after one-hot encoding\n",
    "print(merged_dataset_encoded.head())\n"
   ]
  },
  {
   "cell_type": "code",
   "execution_count": 23,
   "id": "ba8ad85b",
   "metadata": {},
   "outputs": [
    {
     "name": "stdout",
     "output_type": "stream",
     "text": [
      "                                                 url        type  \\\n",
      "0                                   br-icloud.com.br    phishing   \n",
      "1                mp3raid.com/music/krizz_kaliko.html      benign   \n",
      "2                    bopsecrets.org/rexroth/cr/1.htm      benign   \n",
      "3  http://www.garage-pirenne.be/index.php?option=...  defacement   \n",
      "4  http://adventure-nicaragua.net/index.php?optio...  defacement   \n",
      "\n",
      "                                              Benign  \\\n",
      "0  http://1337x.to/torrent/1110018/Blackhat-2015-...   \n",
      "1  http://1337x.to/torrent/1122940/Blackhat-2015-...   \n",
      "2  http://1337x.to/torrent/1124395/Fast-and-Furio...   \n",
      "3  http://1337x.to/torrent/1145504/Avengers-Age-o...   \n",
      "4  http://1337x.to/torrent/1160078/Avengers-age-o...   \n",
      "\n",
      "                                          Defacement  \\\n",
      "0  http://www.sinduscongoias.com.br/index.php/ins...   \n",
      "1  http://www.sinduscongoias.com.br/index.php/ins...   \n",
      "2  http://www.sinduscongoias.com.br/index.php/ins...   \n",
      "3  http://www.sinduscongoias.com.br/index.php/ins...   \n",
      "4  http://www.sinduscongoias.com.br/index.php/ins...   \n",
      "\n",
      "                                             Malware  \\\n",
      "0  http://gzzax.livechatvalue.com/chat/chatClient...   \n",
      "1  http://gzzax.livechatvalue.com/chat/chatClient...   \n",
      "2  http://mtsx.com.cn/UploadFiles/2011-08/admin/%...   \n",
      "3  http://mtsx.com.cn/UploadFiles/2011-08/admin/%...   \n",
      "4  http://chinesevie.com/index.php?option=com_mai...   \n",
      "\n",
      "                                            Phishing  \\\n",
      "0  http://bid.openx.net/json?amp;amp;amp;amp;cid;...   \n",
      "1  http://webmail2.centurytel.net/hwebmail/servic...   \n",
      "2  http://www.google.com.ng/imgres?imgurl=http://...   \n",
      "3  http://webmail2.centurytel.net/hwebmail/servic...   \n",
      "4  http://www.liceonuzzi.it/cmd=_Inf/connectionSt...   \n",
      "\n",
      "                                                Spam  encoded_type  \n",
      "0  http://archive.salisburyjournal.co.uk/2007/3/6...             3  \n",
      "1     http://appbasic.jettons.co.uk/links/index.html             0  \n",
      "2  http://archive.yorkpress.co.uk/2003/11/6/25684...             0  \n",
      "3  http://acard4u.co.uk/product_reviews.php?cPath...             1  \n",
      "4  http://amazon.co.uk/s/ref=amb_link_22202665_32...             1  \n"
     ]
    }
   ],
   "source": [
    "from sklearn.preprocessing import LabelEncoder\n",
    "\n",
    "categorical_column = 'type'\n",
    "\n",
    "# Initialize LabelEncoder\n",
    "label_encoder = LabelEncoder()\n",
    "\n",
    "# Fit and transform the categorical column\n",
    "merged_dataset['encoded_type'] = label_encoder.fit_transform(merged_dataset[categorical_column])\n",
    "\n",
    "# Display the dataset after label encoding\n",
    "print(merged_dataset.head())\n"
   ]
  },
  {
   "cell_type": "code",
   "execution_count": 24,
   "id": "bfdd1082",
   "metadata": {},
   "outputs": [
    {
     "name": "stdout",
     "output_type": "stream",
     "text": [
      "Requirement already satisfied: imbalanced-learn in c:\\users\\fatii\\anaconda3\\lib\\site-packages (0.11.0)\n",
      "Requirement already satisfied: threadpoolctl>=2.0.0 in c:\\users\\fatii\\anaconda3\\lib\\site-packages (from imbalanced-learn) (2.2.0)\n",
      "Requirement already satisfied: joblib>=1.1.1 in c:\\users\\fatii\\anaconda3\\lib\\site-packages (from imbalanced-learn) (1.1.1)\n",
      "Requirement already satisfied: scipy>=1.5.0 in c:\\users\\fatii\\anaconda3\\lib\\site-packages (from imbalanced-learn) (1.10.0)\n",
      "Requirement already satisfied: numpy>=1.17.3 in c:\\users\\fatii\\anaconda3\\lib\\site-packages (from imbalanced-learn) (1.23.5)\n",
      "Requirement already satisfied: scikit-learn>=1.0.2 in c:\\users\\fatii\\anaconda3\\lib\\site-packages (from imbalanced-learn) (1.2.1)\n"
     ]
    }
   ],
   "source": [
    "!pip install -U imbalanced-learn\n"
   ]
  },
  {
   "cell_type": "code",
   "execution_count": 25,
   "id": "5795fe20",
   "metadata": {},
   "outputs": [],
   "source": [
    "\n",
    "\n",
    "\n",
    "#EDA"
   ]
  },
  {
   "cell_type": "code",
   "execution_count": 26,
   "id": "cef49ec4",
   "metadata": {},
   "outputs": [
    {
     "name": "stdout",
     "output_type": "stream",
     "text": [
      "        encoded_type\n",
      "count  643855.000000\n",
      "mean        0.667705\n",
      "std         1.085973\n",
      "min         0.000000\n",
      "25%         0.000000\n",
      "50%         0.000000\n",
      "75%         1.000000\n",
      "max         3.000000\n"
     ]
    }
   ],
   "source": [
    "# Display summary statistics\n",
    "print(merged_dataset.describe())\n"
   ]
  },
  {
   "cell_type": "code",
   "execution_count": 27,
   "id": "52844f2a",
   "metadata": {},
   "outputs": [
    {
     "data": {
      "image/png": "[encoded data removed]",
      "text/plain": [
       "<Figure size 640x480 with 1 Axes>"
      ]
     },
     "metadata": {},
     "output_type": "display_data"
    }
   ],
   "source": [
    "import matplotlib.pyplot as plt\n",
    "import seaborn as sns\n",
    "\n",
    "# Assuming 'type' is the target column\n",
    "sns.countplot(x='type', data=merged_dataset)\n",
    "plt.title('Class Distribution')\n",
    "plt.show()\n"
   ]
  },
  {
   "cell_type": "code",
   "execution_count": 28,
   "id": "7457cc5c",
   "metadata": {},
   "outputs": [
    {
     "data": {
      "image/png": "[encoded data removed]",
      "text/plain": [
       "<Figure size 640x480 with 2 Axes>"
      ]
     },
     "metadata": {},
     "output_type": "display_data"
    }
   ],
   "source": [
    "# Display correlation matrix\n",
    "correlation_matrix = merged_dataset.corr(numeric_only=True)\n",
    "sns.heatmap(correlation_matrix, annot=True, cmap='coolwarm', fmt=\".2f\")\n",
    "plt.title('Correlation Matrix')\n",
    "plt.show()\n"
   ]
  },
  {
   "cell_type": "code",
   "execution_count": 29,
   "id": "67e7d9f6",
   "metadata": {},
   "outputs": [
    {
     "data": {
      "image/png": "[encoded data removed]",
      "text/plain": [
       "<Figure size 1500x1000 with 1 Axes>"
      ]
     },
     "metadata": {},
     "output_type": "display_data"
    }
   ],
   "source": [
    "# Plot feature distributions\n",
    "merged_dataset.hist(bins=20, figsize=(15, 10))\n",
    "plt.suptitle('Feature Distributions', x=0.5, y=0.92, fontsize=16)\n",
    "plt.show()\n"
   ]
  },
  {
   "cell_type": "code",
   "execution_count": 30,
   "id": "2f9a489c",
   "metadata": {},
   "outputs": [
    {
     "data": {
      "image/png": "[encoded data removed]",
      "text/plain": [
       "<Figure size 1500x800 with 1 Axes>"
      ]
     },
     "metadata": {},
     "output_type": "display_data"
    }
   ],
   "source": [
    "# Box plots for numerical features\n",
    "numerical_features = merged_dataset.select_dtypes(include=['number']).columns\n",
    "plt.figure(figsize=(15, 8))\n",
    "sns.boxplot(data=merged_dataset[numerical_features])\n",
    "plt.title('Box Plots for Numerical Features')\n",
    "plt.show()\n"
   ]
  },
  {
   "cell_type": "code",
   "execution_count": null,
   "id": "95287be5",
   "metadata": {},
   "outputs": [],
   "source": [
    "import seaborn as sns\n",
    "import matplotlib.pyplot as plt\n",
    "\n",
    "# Assuming 'type' is the target column\n",
    "sns.pairplot(merged_dataset, hue='type', diag_kind='kde')\n",
    "plt.suptitle('Pair Plots for Numerical Features', y=1.02, fontsize=16)\n",
    "plt.show()\n"
   ]
  },
  {
   "cell_type": "code",
   "execution_count": 32,
   "id": "1cbe66ea",
   "metadata": {},
   "outputs": [],
   "source": [
    "#extracting features"
   ]
  },
  {
   "cell_type": "code",
   "execution_count": null,
   "id": "ddd256ad",
   "metadata": {},
   "outputs": [],
   "source": [
    "import random\n",
    "import matplotlib.pyplot as plt\n",
    "# Assuming 'type' is the target column\n",
    "categorical_features = merged_dataset.select_dtypes(include=['object']).columns\n",
    "\n",
    "for feature in categorical_features:\n",
    "    plt.figure(figsize=(10, 6))\n",
    "    sample_data = merged_dataset.sample(frac=0.1, random_state=42)  # Adjust the fraction as needed\n",
    "    sns.countplot(x=feature, hue='type', data=sample_data)\n",
    "    plt.title(f'{feature} vs. Target Variable')\n",
    "    plt.show()\n",
    "\n"
   ]
  },
  {
   "cell_type": "code",
   "execution_count": null,
   "id": "74d2aed9",
   "metadata": {},
   "outputs": [],
   "source": []
  }
 ],
 "metadata": {
  "kernelspec": {
   "display_name": "Python 3 (ipykernel)",
   "language": "python",
   "name": "python3"
  },
  "language_info": {
   "codemirror_mode": {
    "name": "ipython",
    "version": 3
   },
   "file_extension": ".py",
   "mimetype": "text/x-python",
   "name": "python",
   "nbconvert_exporter": "python",
   "pygments_lexer": "ipython3",
   "version": "3.10.9"
  }
 },
 "nbformat": 4,
 "nbformat_minor": 5
}
